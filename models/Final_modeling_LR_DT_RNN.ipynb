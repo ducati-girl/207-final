{
 "cells": [
  {
   "cell_type": "code",
   "execution_count": null,
   "id": "763c905f",
   "metadata": {},
   "outputs": [],
   "source": [
    "import pandas as pd\n",
    "import numpy as np\n",
    "from sklearn.model_selection import train_test_split\n",
    "from sklearn.feature_extraction.text import CountVectorizer\n",
    "from sklearn.tree import DecisionTreeClassifier\n",
    "from tensorflow.keras.preprocessing.text import Tokenizer\n",
    "from tensorflow.keras.preprocessing.sequence import pad_sequences\n",
    "from tensorflow.keras.models import Sequential\n",
    "from tensorflow.keras.layers import Embedding, LSTM, Dense, Dropout\n",
    "import re\n",
    "import nltk\n",
    "from nltk.corpus import stopwords\n",
    "from nltk.tokenize import RegexpTokenizer"
   ]
  },
  {
   "cell_type": "code",
   "execution_count": null,
   "id": "3bf41dca",
   "metadata": {},
   "outputs": [],
   "source": [
    "#Converting Parquet data format to CSV\n",
    "df_parquet_train = pd.read_parquet('train_essays.parquet')\n",
    "df_parquet_train.to_csv('train_essays.csv')\n",
    "df_parquet_train = pd.read_parquet('train_essays.parquet')\n",
    "df_parquet_train.to_csv('train_essays.csv')\n",
    "df_parquet_valid = pd.read_parquet('valid_essays.parquet')\n",
    "df_parquet_valid.to_csv('valid_essays.csv')\n"
   ]
  },
  {
   "cell_type": "markdown",
   "id": "49b56757",
   "metadata": {},
   "source": [
    "# Newly Generated Data\n",
    "\n",
    "We have obtained newly generated data from the Kaggle commpetition competitors who generted ne essay data using other LLMs, here is the link to the data source that we will be using for our own model creation. https://www.kaggle.com/datasets/conjuring92/ai-mix-v26\n",
    "\n"
   ]
  },
  {
   "cell_type": "markdown",
   "id": "c3ef1244",
   "metadata": {},
   "source": [
    "The inclusion of essays from both proprietary and open-source LLMs, along with human texts from varied sources, enriches the dataset with a broad spectrum of writing styles and complexities. This diversity is beneficial for training models that can generalize well across different types of text."
   ]
  },
  {
   "cell_type": "markdown",
   "id": "9667d619",
   "metadata": {},
   "source": [
    "The dataset's incremental approach to addressing blind spots of previous generation models and enhancing robustness is critical. It suggests that the dataset has evolved to challenge models effectively, pushing for better detection methods of AI-generated text.\n",
    "\n",
    "Utilizing the entire Persuade corpus and including human texts from various domains helps ensure that the model is well-trained in identifying nuances specific to human writing. This can be especially useful in fine-tuning models to be sensitive to subtle distinctions between human and LLM-generated essays.\n",
    "\n",
    "The augmented essays introduce controlled noise and variations (e.g., spelling corrections, synonym replacements, obfuscations) to simulate potential attempts to evade detection by altering the text. Training models on such data can improve their resilience against evasion techniques and enhance their detection capabilities.\n",
    "\n",
    "Experimenting with different generation configs (e.g., contrastive search, use of guidance scale) and prompting strategies enriches the dataset with a wide array of AI-generated text scenarios. This variety is invaluable for training models to recognize a range of generation patterns and techniques."
   ]
  },
  {
   "cell_type": "code",
   "execution_count": null,
   "id": "9e28f65b",
   "metadata": {},
   "outputs": [],
   "source": [
    "df = pd.read_csv('train_essays.csv')\n",
    "nltk.download('stopwords')\n"
   ]
  },
  {
   "cell_type": "code",
   "execution_count": null,
   "id": "bfebdae2",
   "metadata": {},
   "outputs": [],
   "source": [
    "df['generated'].value_counts()"
   ]
  },
  {
   "cell_type": "markdown",
   "id": "27cb1ec2",
   "metadata": {},
   "source": [
    "# Data Preproccessing "
   ]
  },
  {
   "cell_type": "code",
   "execution_count": null,
   "id": "34fc9ce4",
   "metadata": {},
   "outputs": [],
   "source": [
    "# Cleaning Text function\n",
    "def clean_text(text):\n",
    "    text = text.lower()\n",
    "    text = re.sub(r'\\W', ' ', text)\n",
    "    text = re.sub(r'\\s+[a-zA-Z]\\s+', ' ', text)\n",
    "    text = re.sub(r'\\^[a-zA-Z]\\s+', ' ', text) \n",
    "    text = re.sub(r'\\s+', ' ', text, flags=re.I)\n",
    "    text = text.strip()\n",
    "    tokenizer = RegexpTokenizer(r'\\w+')\n",
    "    tokens = tokenizer.tokenize(text)\n",
    "    filtered_words = [word for word in tokens if word not in stopwords.words('english')]\n",
    "    return \" \".join(filtered_words)\n",
    "\n",
    "df['text'] = df['text'].apply(lambda x: clean_text(x))"
   ]
  },
  {
   "cell_type": "code",
   "execution_count": null,
   "id": "943dd2a8",
   "metadata": {},
   "outputs": [],
   "source": [
    "df.to_csv(\"preprocessed_train_essays.csv\")"
   ]
  },
  {
   "cell_type": "code",
   "execution_count": null,
   "id": "8cb2ba32",
   "metadata": {},
   "outputs": [],
   "source": [
    "# Split the dataset into training and testing sets\n",
    "X_train, X_test, y_train, y_test = train_test_split(df['text'], df['generated'], test_size=0.2, random_state=42)\n"
   ]
  },
  {
   "cell_type": "code",
   "execution_count": null,
   "id": "14038134",
   "metadata": {},
   "outputs": [],
   "source": [
    "X_train.to_csv(\"X_train_essays.csv\")\n",
    "X_test.to_csv(\"X_test_essays.csv\")\n",
    "y_train.to_csv(\"Y_train_essays.csv\")\n",
    "y_test.to_csv(\"Y_test_esssays.csv\")\n"
   ]
  },
  {
   "cell_type": "markdown",
   "id": "71cdd1e5",
   "metadata": {},
   "source": [
    "## TF-IDF and POS tagging"
   ]
  },
  {
   "cell_type": "code",
   "execution_count": null,
   "id": "cce45f70",
   "metadata": {},
   "outputs": [],
   "source": [
    "# Text tokenization for RNN\n",
    "tokenizer_text = Tokenizer(num_words=5000)\n",
    "tokenizer_text.fit_on_texts(X_train)\n",
    "X_train_seq = tokenizer_text.texts_to_sequences(X_train)\n",
    "X_test_seq = tokenizer_text.texts_to_sequences(X_test)\n",
    "\n",
    "# Determine a common maximum length for both word and POS sequences\n",
    "common_max_length = max(max_length_text, max_length_pos)\n",
    "\n",
    "# Pad both word and POS sequences to the common maximum length\n",
    "X_train_padded = pad_sequences(X_train_seq, maxlen=common_max_length, padding='post')\n",
    "X_test_padded = pad_sequences(X_test_seq, maxlen=common_max_length, padding='post')\n",
    "pos_input_train_padded = pad_sequences(pos_input_train, maxlen=common_max_length, padding='post')\n",
    "pos_input_test_padded = pad_sequences(pos_input_test, maxlen=common_max_length, padding='post')\n",
    "\n",
    "# TF-IDF Vectorization for Decision Tree\n",
    "tfidf_vectorizer = TfidfVectorizer(max_features=5000, ngram_range=(1,2))\n",
    "X_tfidf_train = tfidf_vectorizer.fit_transform(X_train)\n",
    "X_tfidf_test = tfidf_vectorizer.transform(X_test)"
   ]
  },
  {
   "cell_type": "code",
   "execution_count": null,
   "id": "3d36d149",
   "metadata": {},
   "outputs": [],
   "source": [
    "# POS Tagging and tokenization for RNN and Decision Tree\n",
    "def create_pos_tag_sequences(texts):\n",
    "    return [' '.join(tag for _, tag in pos_tag(word_tokenize(text))) for text in texts]\n",
    "\n",
    "pos_tags_train = create_pos_tag_sequences(X_train)\n",
    "pos_tags_test = create_pos_tag_sequences(X_test)\n",
    "\n",
    "tokenizer_pos = Tokenizer()\n",
    "tokenizer_pos.fit_on_texts(pos_tags_train)\n",
    "pos_input_train = tokenizer_pos.texts_to_sequences(pos_tags_train)\n",
    "pos_input_test = tokenizer_pos.texts_to_sequences(pos_tags_test)\n",
    "\n",
    "max_length_pos = max(max(len(seq) for seq in pos_input_train), max(len(seq) for seq in pos_input_test))\n",
    "pos_input_train_padded = pad_sequences(pos_input_train, maxlen=max_length_pos, padding='post')\n",
    "pos_input_test_padded = pad_sequences(pos_input_test, maxlen=max_length_pos, padding='post')\n",
    "\n",
    "# Combine TF-IDF and POS for Decision Tree\n",
    "X_combined_train = hstack([X_tfidf_train, csr_matrix(pos_input_train_padded)])\n",
    "X_combined_test = hstack([X_tfidf_test, csr_matrix(pos_input_test_padded)])"
   ]
  },
  {
   "cell_type": "code",
   "execution_count": null,
   "id": "3ae36c43",
   "metadata": {},
   "outputs": [],
   "source": [
    "#looking for unique POS Tags\n",
    "from collections import Counter\n",
    "\n",
    "def get_unique_pos_tags(texts):\n",
    "    pos_counts = Counter()\n",
    "    for text in texts:\n",
    "        \n",
    "        tags = nltk.pos_tag(nltk.word_tokenize(text))\n",
    "        pos_counts.update(tag for word, tag in tags)\n",
    "    return list(pos_counts.keys())\n",
    "\n",
    "# Generate the list of unique POS tags from the training set\n",
    "unique_pos_tags = get_unique_pos_tags(X_train)\n",
    "print(f\"Unique POS Tags: {unique_pos_tags}\")\n"
   ]
  },
  {
   "cell_type": "markdown",
   "id": "4378bcbf",
   "metadata": {},
   "source": [
    "## Decision Tree Model Training\n"
   ]
  },
  {
   "cell_type": "code",
   "execution_count": null,
   "id": "06ec1b86",
   "metadata": {},
   "outputs": [],
   "source": [
    "from sklearn.tree import DecisionTreeClassifier\n",
    "from sklearn.metrics import accuracy_score\n",
    "from sklearn.metrics import confusion_matrix\n",
    "import seaborn as sns\n",
    "import matplotlib.pyplot as plt\n",
    "from sklearn.metrics import accuracy_score, precision_score, recall_score, f1_score\n",
    "\n",
    "# Train Decision Tree\n",
    "dt_model = DecisionTreeClassifier(random_state=42)\n",
    "dt_model.fit(X_combined_train, y_train)\n",
    "y_pred_dt = dt_model.predict(X_combined_test)\n",
    "print(f'Decision Tree Model Accuracy: {accuracy_score(y_test, y_pred_dt)}')"
   ]
  },
  {
   "cell_type": "code",
   "execution_count": 7,
   "id": "38541fdf",
   "metadata": {},
   "outputs": [],
   "source": [
    "from sklearn.metrics import accuracy_score, precision_score, recall_score, f1_score\n",
    "def evaluate_model(y_true, y_pred):\n",
    "    metrics_dict = {\n",
    "        'accuracy': accuracy_score(y_true, y_pred),\n",
    "        'precision': precision_score(y_true, y_pred, average='binary'),\n",
    "        'recall': recall_score(y_true, y_pred, average='binary'),\n",
    "        'f1_score': f1_score(y_true, y_pred, average='binary')\n",
    "    }\n",
    "    return metrics_dict\n"
   ]
  },
  {
   "cell_type": "code",
   "execution_count": 9,
   "id": "67e3f5dd",
   "metadata": {},
   "outputs": [
    {
     "name": "stdout",
     "output_type": "stream",
     "text": [
      "Evaluation Metrics:\n",
      "Accuracy: 0.80\n",
      "Precision: 0.88\n",
      "Recall: 0.86\n",
      "F1 Score: 0.87\n",
      "[[ 2505  2327]\n",
      " [ 2610 16722]]\n"
     ]
    },
    {
     "data": {
      "image/png": "[encoded data removed]",
      "text/plain": [
       "<Figure size 800x600 with 1 Axes>"
      ]
     },
     "metadata": {},
     "output_type": "display_data"
    }
   ],
   "source": [
    "evaluation_results = evaluate_model(y_test, y_pred_dt)\n",
    "\n",
    "# Print the evaluation results\n",
    "print(\"Evaluation Metrics:\")\n",
    "print(f\"Accuracy: {evaluation_results['accuracy']:.2f}\")\n",
    "print(f\"Precision: {evaluation_results['precision']:.2f}\")\n",
    "print(f\"Recall: {evaluation_results['recall']:.2f}\")\n",
    "print(f\"F1 Score: {evaluation_results['f1_score']:.2f}\")\n",
    "\n",
    "conf_mat = confusion_matrix(y_test, y_pred_dt)\n",
    "print(conf_mat)\n",
    "\n",
    "plt.figure(figsize=(8, 6))\n",
    "sns.heatmap(conf_mat, annot=True, fmt='d', cmap='Blues', cbar=False)\n",
    "plt.xlabel('Predicted Labels')\n",
    "plt.ylabel('True Labels')\n",
    "plt.title('Confusion Matrix')\n",
    "plt.show()"
   ]
  },
  {
   "cell_type": "markdown",
   "id": "50a8fed6",
   "metadata": {},
   "source": [
    "## RNN Model Training"
   ]
  },
  {
   "cell_type": "code",
   "execution_count": null,
   "id": "d0766527",
   "metadata": {},
   "outputs": [],
   "source": [
    "# Define inputs \n",
    "word_input = Input(shape=(common_max_length,), dtype='int32', name=\"word_input\")\n",
    "pos_input = Input(shape=(common_max_length,), dtype='int32', name=\"pos_input\")\n",
    "\n",
    "# Embeddings\n",
    "word_emb = Embedding(input_dim=len(tokenizer_text.word_index) + 1, output_dim=50, name=\"word_embedding\")(word_input)\n",
    "pos_emb = Embedding(input_dim=len(tokenizer_pos.word_index) + 1, output_dim=20, name=\"pos_embedding\")(pos_input)\n",
    "\n",
    "# Concatenate embeddings\n",
    "conc_emb = Concatenate()([word_emb, pos_emb])\n",
    "\n",
    "# RNN layers and output\n",
    "x = Bidirectional(LSTM(64, return_sequences=True))(conc_emb)\n",
    "x = Dropout(0.2)(x)\n",
    "x = Bidirectional(LSTM(32))(x)\n",
    "x = Dense(64, activation='relu')(x)\n",
    "x = Dropout(0.5)(x)\n",
    "output = Dense(1, activation='sigmoid')(x)\n",
    "\n",
    "model = Model(inputs=[word_input, pos_input], outputs=output)\n",
    "model.compile(optimizer='adam', loss='binary_crossentropy', metrics=['accuracy'])\n",
    "\n",
    "model.fit([X_train_padded, pos_input_train_padded], y_train, epochs=5, batch_size=64, validation_data=([X_test_padded, pos_input_test_padded], y_test))\n",
    "\n",
    "_, rnn_accuracy = model.evaluate([X_test_padded, pos_input_test_padded], y_test)\n",
    "print(f'RNN Model Accuracy: {rnn_accuracy}')"
   ]
  },
  {
   "cell_type": "code",
   "execution_count": 10,
   "id": "1db01c9e",
   "metadata": {},
   "outputs": [
    {
     "name": "stdout",
     "output_type": "stream",
     "text": [
      "756/756 [==============================] - 403s 518ms/step\n",
      "Evaluation Metrics:\n",
      "Accuracy: 0.8613\n",
      "Precision: 0.8899\n",
      "Recall: 0.9434\n",
      "F1_score: 0.9159\n"
     ]
    }
   ],
   "source": [
    "predictions_prob = model.predict([X_test_padded, pos_input_test_padded])\n",
    "predictions = (predictions_prob > 0.5).astype(int)  # Convert probabilities to binary predictions\n",
    "\n",
    "evaluation_results = evaluate_model(y_test, predictions)\n",
    "\n",
    "print(\"Evaluation Metrics:\")\n",
    "for metric, value in evaluation_results.items():\n",
    "    print(f\"{metric.capitalize()}: {value:.4f}\")"
   ]
  },
  {
   "cell_type": "markdown",
   "id": "a97cebbe",
   "metadata": {},
   "source": [
    "# Simple Logistic Regression Revisited"
   ]
  },
  {
   "cell_type": "markdown",
   "id": "cfbb0ac5",
   "metadata": {},
   "source": [
    "Now with the new data, we will reun a simple logistic regression again since it seems that the first logistic regression model that we created on the initial dataset had data leakage"
   ]
  },
  {
   "cell_type": "code",
   "execution_count": 13,
   "id": "3815cd62",
   "metadata": {},
   "outputs": [
    {
     "name": "stdout",
     "output_type": "stream",
     "text": [
      "Logistic Regression Evaluation Metrics:\n",
      "Accuracy: 0.8044\n",
      "Precision: 0.8226\n",
      "Recall: 0.9633\n",
      "F1_score: 0.8874\n"
     ]
    },
    {
     "name": "stderr",
     "output_type": "stream",
     "text": [
      "/Users/jaeswang/opt/anaconda3/envs/base2/lib/python3.8/site-packages/sklearn/linear_model/_logistic.py:460: ConvergenceWarning: lbfgs failed to converge (status=1):\n",
      "STOP: TOTAL NO. of ITERATIONS REACHED LIMIT.\n",
      "\n",
      "Increase the number of iterations (max_iter) or scale the data as shown in:\n",
      "    https://scikit-learn.org/stable/modules/preprocessing.html\n",
      "Please also refer to the documentation for alternative solver options:\n",
      "    https://scikit-learn.org/stable/modules/linear_model.html#logistic-regression\n",
      "  n_iter_i = _check_optimize_result(\n"
     ]
    }
   ],
   "source": [
    "from sklearn.linear_model import LogisticRegression\n",
    "\n",
    "log_reg = LogisticRegression(max_iter=1000)\n",
    "log_reg.fit(X_combined_train, y_train)\n",
    "\n",
    "y_pred_lr = log_reg.predict(X_combined_test)\n",
    "\n",
    "lr_evaluation_results = evaluate_model(y_test, y_pred_lr)\n",
    "\n",
    "print(\"Logistic Regression Evaluation Metrics:\")\n",
    "for metric, value in lr_evaluation_results.items():\n",
    "    print(f\"{metric.capitalize()}: {value:.4f}\")\n",
    "\n"
   ]
  },
  {
   "cell_type": "markdown",
   "id": "f1c63160",
   "metadata": {},
   "source": [
    "# Model Testing on Validation Data "
   ]
  },
  {
   "cell_type": "markdown",
   "id": "bd40fca3",
   "metadata": {},
   "source": [
    "# Decision Tree"
   ]
  },
  {
   "cell_type": "code",
   "execution_count": 11,
   "id": "2420115e",
   "metadata": {},
   "outputs": [
    {
     "name": "stdout",
     "output_type": "stream",
     "text": [
      "Decision Tree Evaluation Metrics:\n",
      "Accuracy: 0.7957\n",
      "Precision: 0.8778\n",
      "Recall: 0.8650\n",
      "F1_score: 0.8714\n",
      "[[ 2505  2327]\n",
      " [ 2610 16722]]\n"
     ]
    },
    {
     "data": {
      "image/png": "[encoded data removed]",
      "text/plain": [
       "<Figure size 800x600 with 1 Axes>"
      ]
     },
     "metadata": {},
     "output_type": "display_data"
    }
   ],
   "source": [
    "y_pred_dt = dt_model.predict(X_combined_test)\n",
    "\n",
    "dt_evaluation_results = evaluate_model(y_test, y_pred_dt)\n",
    "\n",
    "print(\"Decision Tree Evaluation Metrics:\")\n",
    "for metric, value in dt_evaluation_results.items():\n",
    "    print(f\"{metric.capitalize()}: {value:.4f}\")\n",
    "\n",
    "conf_mat_dt = confusion_matrix(y_test, y_pred_dt)\n",
    "print(conf_mat_dt)\n",
    "plt.figure(figsize=(8, 6))\n",
    "sns.heatmap(conf_mat_dt, annot=True, fmt='d', cmap='Blues', cbar=False)\n",
    "plt.xlabel('Predicted Labels')\n",
    "plt.ylabel('True Labels')\n",
    "plt.title('Decision Tree Confusion Matrix')\n",
    "plt.show()\n"
   ]
  },
  {
   "cell_type": "markdown",
   "id": "def908d7",
   "metadata": {},
   "source": [
    "# RNN"
   ]
  },
  {
   "cell_type": "code",
   "execution_count": 12,
   "id": "f8842030",
   "metadata": {},
   "outputs": [
    {
     "name": "stdout",
     "output_type": "stream",
     "text": [
      "756/756 [==============================] - 341s 451ms/step\n",
      "RNN Model Evaluation Metrics:\n",
      "Accuracy: 0.8613\n",
      "Precision: 0.8899\n",
      "Recall: 0.9434\n",
      "F1_score: 0.9159\n",
      "756/756 [==============================] - 359s 475ms/step - loss: 0.3173 - accuracy: 0.8613\n",
      "RNN Model Accuracy: 0.8613\n"
     ]
    }
   ],
   "source": [
    "\n",
    "predictions_prob = model.predict([X_test_padded, pos_input_test_padded])\n",
    "predictions_rnn = (predictions_prob > 0.5).astype(int)\n",
    "\n",
    "rnn_evaluation_results = evaluate_model(y_test, predictions_rnn)\n",
    "\n",
    "print(\"RNN Model Evaluation Metrics:\")\n",
    "for metric, value in rnn_evaluation_results.items():\n",
    "    print(f\"{metric.capitalize()}: {value:.4f}\")\n",
    "\n",
    "_, rnn_accuracy = model.evaluate([X_test_padded, pos_input_test_padded], y_test)\n",
    "print(f\"RNN Model Accuracy: {rnn_accuracy:.4f}\")\n"
   ]
  },
  {
   "cell_type": "markdown",
   "id": "1ee85163",
   "metadata": {},
   "source": [
    "# Number of Features"
   ]
  },
  {
   "cell_type": "code",
   "execution_count": 14,
   "id": "423141ea",
   "metadata": {},
   "outputs": [
    {
     "name": "stdout",
     "output_type": "stream",
     "text": [
      "Vocabulary size (number of features for embeddings): 245771\n"
     ]
    }
   ],
   "source": [
    "print(f\"Vocabulary size (number of features for embeddings): {len(tokenizer_text.word_index) + 1}\")\n"
   ]
  },
  {
   "cell_type": "code",
   "execution_count": 16,
   "id": "29247303",
   "metadata": {},
   "outputs": [
    {
     "name": "stdout",
     "output_type": "stream",
     "text": [
      "Number of features in the combined training dataset for traditional models: 6972\n",
      "Vocabulary size for neural networks (features in embeddings): 245771\n"
     ]
    }
   ],
   "source": [
    "print(f\"Number of features in the combined training dataset for traditional models: {X_combined_train.shape[1]}\")\n",
    "\n",
    "print(f\"Vocabulary size for neural networks (features in embeddings): {len(tokenizer_text.word_index) + 1}\")\n"
   ]
  }
 ],
 "metadata": {
  "kernelspec": {
   "display_name": "Python 3 (ipykernel)",
   "language": "python",
   "name": "python3"
  },
  "language_info": {
   "codemirror_mode": {
    "name": "ipython",
    "version": 3
   },
   "file_extension": ".py",
   "mimetype": "text/x-python",
   "name": "python",
   "nbconvert_exporter": "python",
   "pygments_lexer": "ipython3",
   "version": "3.8.18"
  }
 },
 "nbformat": 4,
 "nbformat_minor": 5
}
